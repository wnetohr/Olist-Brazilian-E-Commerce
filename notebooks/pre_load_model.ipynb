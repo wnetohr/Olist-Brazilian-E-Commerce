{
 "cells": [
  {
   "cell_type": "code",
   "execution_count": 4,
   "metadata": {},
   "outputs": [],
   "source": [
    "import pandas as pd\n",
    "from sklearn.ensemble import RandomForestClassifier\n",
    "from sklearn.pipeline import Pipeline, FeatureUnion\n",
    "from sklearn.feature_extraction.text import TfidfVectorizer\n",
    "from sklearn.preprocessing import FunctionTransformer\n",
    "from sklearn.base import BaseEstimator, TransformerMixin\n",
    "from LeIA import SentimentIntensityAnalyzer\n",
    "import pickle"
   ]
  },
  {
   "cell_type": "code",
   "execution_count": 5,
   "metadata": {},
   "outputs": [],
   "source": [
    "class SentimentAnalyzer(BaseEstimator, TransformerMixin):\n",
    "    def __init__(self):\n",
    "        self.analyzer = SentimentIntensityAnalyzer()\n",
    "    \n",
    "    def fit(self, X, y=None):\n",
    "        return self\n",
    "    \n",
    "    def transform(self, X):\n",
    "        compound_scores = []\n",
    "        neg_scores = []\n",
    "        pos_scores = []\n",
    "        neu_scores = []\n",
    "\n",
    "        for review in X:\n",
    "            s = self.analyzer.polarity_scores(review)\n",
    "            compound_scores.append(s['compound'])\n",
    "            neg_scores.append(s['neg'])\n",
    "            pos_scores.append(s['pos'])\n",
    "            neu_scores.append(s['neu'])\n",
    "        \n",
    "        return pd.DataFrame({\n",
    "            'comp_score': compound_scores,\n",
    "            'neg': neg_scores,\n",
    "            'pos': pos_scores,\n",
    "            'neu': neu_scores\n",
    "        })\n",
    "\n",
    "# Função para transformar dados (substituindo lambda)\n",
    "def identity(X):\n",
    "    return X\n",
    "\n",
    "def create_pipeline():\n",
    "    features = FeatureUnion([\n",
    "        ('sentiment', Pipeline([\n",
    "            ('extract', FunctionTransformer(identity, validate=False)),  # Função global\n",
    "            ('analyzer', SentimentAnalyzer())\n",
    "        ])),\n",
    "        ('tfidf', TfidfVectorizer(max_features=1000))\n",
    "    ])\n",
    "    \n",
    "    pipeline = Pipeline([\n",
    "        ('features', features),\n",
    "        ('clf', RandomForestClassifier(n_estimators=100, random_state=42))\n",
    "    ])\n",
    "    \n",
    "    return pipeline\n",
    "\n",
    "def load_data(file_path):\n",
    "    return pd.read_parquet(file_path)"
   ]
  },
  {
   "cell_type": "code",
   "execution_count": 6,
   "metadata": {},
   "outputs": [],
   "source": [
    "file_path6 = '../data/outputs/score_df_3.parquet'  # Ajuste o caminho conforme necessário\n",
    "df = load_data(file_path6)\n",
    "\n",
    "df_train = df.copy()\n",
    "X = df_train['review_comment_message']  # Features (text reviews)\n",
    "y = df_train['review_score']  # Labels (scores)\n",
    "\n",
    "model_rf = create_pipeline()\n",
    "model_rf.fit(X, y)\n",
    "\n",
    "# Salve o modelo treinado usando pickle\n",
    "with open('model_rf.pkl', 'wb') as f:\n",
    "    pickle.dump(model_rf, f)"
   ]
  },
  {
   "cell_type": "code",
   "execution_count": null,
   "metadata": {},
   "outputs": [],
   "source": []
  }
 ],
 "metadata": {
  "kernelspec": {
   "display_name": "venv",
   "language": "python",
   "name": "python3"
  },
  "language_info": {
   "codemirror_mode": {
    "name": "ipython",
    "version": 3
   },
   "file_extension": ".py",
   "mimetype": "text/x-python",
   "name": "python",
   "nbconvert_exporter": "python",
   "pygments_lexer": "ipython3",
   "version": "3.12.4"
  }
 },
 "nbformat": 4,
 "nbformat_minor": 2
}
