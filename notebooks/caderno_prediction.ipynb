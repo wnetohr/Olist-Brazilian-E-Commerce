{
 "cells": [
  {
   "cell_type": "code",
   "execution_count": 1,
   "metadata": {},
   "outputs": [],
   "source": [
    "import pandas as pd\n",
    "import numpy as np\n",
    "from LeIA import SentimentIntensityAnalyzer\n",
    "from sklearn.ensemble import RandomForestClassifier\n",
    "from sklearn.pipeline import Pipeline\n",
    "from sklearn.preprocessing import StandardScaler\n",
    "from sklearn.compose import ColumnTransformer\n",
    "from sklearn.impute import SimpleImputer\n",
    "from sklearn.base import BaseEstimator, TransformerMixin"
   ]
  },
  {
   "cell_type": "code",
   "execution_count": 2,
   "metadata": {},
   "outputs": [],
   "source": [
    "# Define custom transformer for sentiment analysis using LeIA\n",
    "class SentimentAnalyzer(BaseEstimator, TransformerMixin):\n",
    "    def __init__(self):\n",
    "        self.analyzer = SentimentIntensityAnalyzer()\n",
    "    \n",
    "    def fit(self, X, y=None):\n",
    "        return self\n",
    "    \n",
    "    def transform(self, X):\n",
    "        compound_scores = []\n",
    "        neg_scores = []\n",
    "        pos_scores = []\n",
    "        neu_scores = []\n",
    "\n",
    "        for review in X:\n",
    "            s = self.analyzer.polarity_scores(review)\n",
    "            compound_scores.append(s['compound'])\n",
    "            neg_scores.append(s['neg'])\n",
    "            pos_scores.append(s['pos'])\n",
    "            neu_scores.append(s['neu'])\n",
    "        \n",
    "        polarity = np.select(\n",
    "            [np.array(compound_scores) > 0.0, np.array(compound_scores) < 0.0, np.array(compound_scores) == 0.0],\n",
    "            [1, -1, 0]\n",
    "        )\n",
    "        \n",
    "        return pd.DataFrame({\n",
    "            'comp_score': compound_scores,\n",
    "            'neg': neg_scores,\n",
    "            'pos': pos_scores,\n",
    "            'neu': neu_scores,\n",
    "            'polarity': polarity\n",
    "        })\n",
    "\n",
    "def create_pipeline():\n",
    "    # Define text processing pipeline\n",
    "    text_features = Pipeline([\n",
    "        ('sentiment', SentimentAnalyzer()),\n",
    "    ])\n",
    "    \n",
    "    # Full pipeline\n",
    "    pipeline = Pipeline([\n",
    "        ('preprocessor', text_features),\n",
    "        ('clf', RandomForestClassifier(n_estimators=100, random_state=42))\n",
    "    ])\n",
    "    \n",
    "    return pipeline\n",
    "\n",
    "# Load and prepare the data\n",
    "def load_data(file_path):\n",
    "    return pd.read_parquet(file_path)\n"
   ]
  },
  {
   "cell_type": "code",
   "execution_count": 3,
   "metadata": {},
   "outputs": [],
   "source": [
    "file_path6 = '../data/outputs/score_df_3.parquet'  # Atualize o caminho conforme necessário\n",
    "df = load_data(file_path6)\n",
    "\n",
    "# Prepare training data\n",
    "df_train = df.copy()\n",
    "X = df_train['review_comment_message']  # Usar apenas a coluna de texto\n",
    "y = df_train['review_score']\n",
    "\n",
    "# Create and train model\n",
    "model_rf = create_pipeline()\n",
    "model_rf.fit(X, y)\n",
    "\n",
    "# Function to predict rating based on user input\n",
    "def predict_rating(review_text):\n",
    "    # Create DataFrame for new input\n",
    "    new_data = pd.DataFrame({\n",
    "        'review_comment_message': [review_text]\n",
    "    })\n",
    "\n",
    "    # Make prediction\n",
    "    prediction = model_rf.predict(new_data)\n",
    "    \n",
    "    return prediction[0]\n"
   ]
  },
  {
   "cell_type": "code",
   "execution_count": 4,
   "metadata": {},
   "outputs": [
    {
     "name": "stdout",
     "output_type": "stream",
     "text": [
      "The predicted rating for the review is: 5\n"
     ]
    }
   ],
   "source": [
    "\n",
    "# Example usage\n",
    "review_text = \"odiei a compra\"\n",
    "predicted_rating = predict_rating(review_text)\n",
    "\n",
    "print(f\"The predicted rating for the review is: {predicted_rating}\")"
   ]
  }
 ],
 "metadata": {
  "kernelspec": {
   "display_name": "venv",
   "language": "python",
   "name": "python3"
  },
  "language_info": {
   "codemirror_mode": {
    "name": "ipython",
    "version": 3
   },
   "file_extension": ".py",
   "mimetype": "text/x-python",
   "name": "python",
   "nbconvert_exporter": "python",
   "pygments_lexer": "ipython3",
   "version": "3.12.4"
  }
 },
 "nbformat": 4,
 "nbformat_minor": 2
}
