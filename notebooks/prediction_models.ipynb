{
 "cells": [
  {
   "cell_type": "markdown",
   "metadata": {},
   "source": [
    "### Imports"
   ]
  },
  {
   "cell_type": "code",
   "execution_count": 1,
   "metadata": {},
   "outputs": [],
   "source": [
    "import pandas as pd\n",
    "from scipy import stats\n",
    "import numpy as np\n",
    "from sklearn.model_selection import train_test_split\n",
    "from sklearn.linear_model import LogisticRegression\n",
    "import sklearn.linear_model as lm\n",
    "from sklearn.metrics import r2_score, accuracy_score, mean_squared_error, confusion_matrix, classification_report\n",
    "from sklearn.ensemble import RandomForestClassifier, GradientBoostingClassifier\n",
    "from sklearn.metrics import classification_report\n",
    "from sklearn.neighbors import KNeighborsClassifier\n",
    "from sklearn.tree import DecisionTreeClassifier\n"
   ]
  },
  {
   "cell_type": "markdown",
   "metadata": {},
   "source": [
    "### Funções"
   ]
  },
  {
   "cell_type": "code",
   "execution_count": 2,
   "metadata": {},
   "outputs": [],
   "source": [
    "def load_data(file_path):\n",
    "    return pd.read_parquet(file_path)\n",
    "\n",
    "def df_summary(df):\n",
    "    print(f\"Dataset Shape: {df.shape}\")\n",
    "    summary = pd.DataFrame(df.dtypes,columns=['dtypes'])\n",
    "    summary = summary.reset_index()\n",
    "    summary['Column'] = summary['index']\n",
    "    summary = summary[['Column','dtypes']]\n",
    "    summary['# Missing'] = df.isnull().sum().values    \n",
    "    summary['# Unique'] = df.nunique().values\n",
    "    summary['Example'] = df.loc[0].values\n",
    "\n",
    "    for name in summary['Column'].value_counts().index:\n",
    "        summary.loc[summary['Column'] == name, 'Entropy'] = round(stats.entropy(df[name].value_counts(normalize=True), base=2),2) \n",
    "\n",
    "    return summary\n",
    "\n"
   ]
  },
  {
   "cell_type": "markdown",
   "metadata": {},
   "source": [
    "### Carregando dados"
   ]
  },
  {
   "cell_type": "code",
   "execution_count": 3,
   "metadata": {},
   "outputs": [],
   "source": [
    "seed = 42\n",
    "file_path = '../data/outputs/costumers_feature_df.parquet'\n",
    "file_path2 = '../data/outputs/costumers_feature_df.parquet'\n",
    "df = load_data(file_path2)\n",
    "##display(df)\n",
    "\n",
    "rating = df['review_score_factor']\n",
    "\n",
    "drop_columns = ['order_id', 'customer_id', 'order_status', 'order_purchase_timestamp', 'order_approved_at', 'order_delivered_carrier_date', \\\n",
    "                'order_delivered_customer_date', 'order_estimated_delivery_date', 'review_id', 'review_comment_title', 'review_score', \\\n",
    "                'review_creation_date', 'review_comment_message', 'review_answer_timestamp', 'payment_sequential', 'payment_type', 'customer_unique_id', \\\n",
    "                'customer_zip_code_prefix', 'customer_city', 'customer_state', 'order_item_id', 'product_id', 'seller_id', 'shipping_limit_date', 'price', \\\n",
    "                'freight_value', 'product_category_name', 'product_category_name_english', 'product_length_cm', 'product_height_cm', 'product_width_cm', \\\n",
    "                'seller_zip_code_prefix', 'seller_city', 'seller_state', 'review_score_factor']\n",
    "\n",
    "features = df.drop(drop_columns, axis=1)\n",
    "features = features.fillna(features.mean())"
   ]
  },
  {
   "cell_type": "markdown",
   "metadata": {},
   "source": [
    "### Dividindo os dados"
   ]
  },
  {
   "cell_type": "code",
   "execution_count": 4,
   "metadata": {},
   "outputs": [],
   "source": [
    "\n",
    "x_train, x_test, y_train, y_test = train_test_split(features, rating, test_size = 0.2, random_state = seed)"
   ]
  },
  {
   "cell_type": "markdown",
   "metadata": {},
   "source": [
    "### Criação e treinamento do modelo de Árvore de decisão"
   ]
  },
  {
   "cell_type": "code",
   "execution_count": 5,
   "metadata": {},
   "outputs": [
    {
     "name": "stdout",
     "output_type": "stream",
     "text": [
      "The accuracy of the KNN model is 0.5799238820171265\n",
      "              precision    recall  f1-score   support\n",
      "\n",
      "         0.0       0.52      0.55      0.54      3693\n",
      "         1.0       0.42      0.42      0.42      6491\n",
      "         2.0       0.68      0.67      0.67     12938\n",
      "\n",
      "    accuracy                           0.58     23122\n",
      "   macro avg       0.54      0.55      0.54     23122\n",
      "weighted avg       0.58      0.58      0.58     23122\n",
      "\n"
     ]
    }
   ],
   "source": [
    "clf = DecisionTreeClassifier(random_state=seed)\n",
    "clf.fit(x_train, y_train)\n",
    "\n",
    "# Realização de previsões\n",
    "y_pred = clf.predict(x_test)\n",
    "\n",
    "# Avaliação do modelo\n",
    "accuracy = accuracy_score(y_test, y_pred)\n",
    "report = classification_report(y_test, y_pred)\n",
    "\n",
    "print(f'The accuracy of the DT model is {accuracy}')\n",
    "\n",
    "# Exibir relatório de classificação\n",
    "print(report)"
   ]
  },
  {
   "cell_type": "markdown",
   "metadata": {},
   "source": [
    "### Criação e treinamento do modelo de regressão logística"
   ]
  },
  {
   "cell_type": "code",
   "execution_count": 7,
   "metadata": {},
   "outputs": [
    {
     "name": "stdout",
     "output_type": "stream",
     "text": [
      "              precision    recall  f1-score   support\n",
      "\n",
      "         0.0       0.61      0.21      0.32      3693\n",
      "         1.0       0.38      0.02      0.03      6491\n",
      "         2.0       0.58      0.97      0.73     12938\n",
      "\n",
      "    accuracy                           0.58     23122\n",
      "   macro avg       0.52      0.40      0.36     23122\n",
      "weighted avg       0.53      0.58      0.47     23122\n",
      "\n"
     ]
    },
    {
     "name": "stderr",
     "output_type": "stream",
     "text": [
      "c:\\Users\\mater\\Documents\\Projetos git\\Olist-Brazilian-E-Commerce\\venv\\Lib\\site-packages\\sklearn\\linear_model\\_logistic.py:469: ConvergenceWarning: lbfgs failed to converge (status=1):\n",
      "STOP: TOTAL NO. of ITERATIONS REACHED LIMIT.\n",
      "\n",
      "Increase the number of iterations (max_iter) or scale the data as shown in:\n",
      "    https://scikit-learn.org/stable/modules/preprocessing.html\n",
      "Please also refer to the documentation for alternative solver options:\n",
      "    https://scikit-learn.org/stable/modules/linear_model.html#logistic-regression\n",
      "  n_iter_i = _check_optimize_result(\n"
     ]
    }
   ],
   "source": [
    "# Criar e treinar o modelo de regressão logística\n",
    "model = LogisticRegression(max_iter=1000, random_state=seed)\n",
    "model.fit(x_train, y_train)\n",
    "\n",
    "# Fazer previsões e avaliar o modelo\n",
    "y_pred_lr = model.predict(x_test)\n",
    "print(classification_report(y_test, y_pred_lr))"
   ]
  },
  {
   "cell_type": "markdown",
   "metadata": {},
   "source": [
    "### Criação e treinamento do modelo com regressão linear"
   ]
  },
  {
   "cell_type": "code",
   "execution_count": null,
   "metadata": {},
   "outputs": [],
   "source": [
    "\n",
    "reg = lm.LinearRegression().fit(x_train, y_train)\n",
    "\n",
    "y_pred_lr = reg.predict(x_test)\n",
    "\n",
    "score = reg.score(x_test, y_test)\n",
    "rmse_lr = np.sqrt(mean_squared_error(y_test.values, y_pred_lr))\n",
    "\n",
    "print(f'The R2 score in this linear regression model is {round(score, 5)}')\n",
    "print(f'The RMSE in this linear regression model is {round(rmse_lr, 5)}, which is about {100*round(rmse_lr/np.mean(rating),2)}% of \\\n",
    "the mean rating score.')"
   ]
  },
  {
   "cell_type": "markdown",
   "metadata": {},
   "source": [
    "### Criação e treinamento do modelo com floresta aleatória"
   ]
  },
  {
   "cell_type": "code",
   "execution_count": 6,
   "metadata": {},
   "outputs": [
    {
     "name": "stdout",
     "output_type": "stream",
     "text": [
      "The accuracy of the KNN model is 0.67715\n",
      "              precision    recall  f1-score   support\n",
      "\n",
      "         0.0       0.82      0.57      0.67      3693\n",
      "         1.0       0.61      0.26      0.37      6491\n",
      "         2.0       0.67      0.91      0.77     12938\n",
      "\n",
      "    accuracy                           0.68     23122\n",
      "   macro avg       0.70      0.58      0.60     23122\n",
      "weighted avg       0.67      0.68      0.64     23122\n",
      "\n"
     ]
    }
   ],
   "source": [
    "# Criar e treinar o modelo de floresta aleatória\n",
    "model = RandomForestClassifier(n_estimators=100, random_state=seed)\n",
    "model.fit(x_train, y_train)\n",
    "\n",
    "# Fazer previsões \n",
    "y_pred_rf = model.predict(x_test)\n",
    "\n",
    "# Avaliar o modelo\n",
    "accuracy = accuracy_score(y_test, y_pred_rf)\n",
    "print(f'The accuracy of the RF model is {round(accuracy, 5)}')\n",
    "\n",
    "# Exibir relatório de classificação\n",
    "print(classification_report(y_test, y_pred_rf))"
   ]
  },
  {
   "cell_type": "markdown",
   "metadata": {},
   "source": [
    "### Criação e treinamento do modelo utilizando KNN"
   ]
  },
  {
   "cell_type": "code",
   "execution_count": 8,
   "metadata": {},
   "outputs": [
    {
     "name": "stdout",
     "output_type": "stream",
     "text": [
      "The accuracy of the KNN model is 0.53404\n",
      "              precision    recall  f1-score   support\n",
      "\n",
      "         0.0       0.39      0.33      0.36      3693\n",
      "         1.0       0.36      0.30      0.33      6491\n",
      "         2.0       0.63      0.71      0.67     12938\n",
      "\n",
      "    accuracy                           0.53     23122\n",
      "   macro avg       0.46      0.45      0.45     23122\n",
      "weighted avg       0.52      0.53      0.52     23122\n",
      "\n"
     ]
    }
   ],
   "source": [
    "# Criar e treinar o modelo K-Nearest Neighbors\n",
    "model_knn = KNeighborsClassifier(n_neighbors=5)\n",
    "model_knn.fit(x_train, y_train)\n",
    "\n",
    "# Fazer previsões\n",
    "y_pred_knn = model_knn.predict(x_test)\n",
    "\n",
    "# Avaliar o modelo\n",
    "accuracy = accuracy_score(y_test, y_pred_knn)\n",
    "print(f'The accuracy of the KNN model is {round(accuracy, 5)}')\n",
    "\n",
    "# Exibir relatório de classificação\n",
    "print(classification_report(y_test, y_pred_knn))"
   ]
  },
  {
   "cell_type": "markdown",
   "metadata": {},
   "source": [
    "### Criação e treinamento do modelo utilizando GBM"
   ]
  },
  {
   "cell_type": "code",
   "execution_count": 5,
   "metadata": {},
   "outputs": [
    {
     "name": "stdout",
     "output_type": "stream",
     "text": [
      "The accuracy of the Gradient Boosting model is 0.60687\n",
      "              precision    recall  f1-score   support\n",
      "\n",
      "         0.0       0.73      0.34      0.46      3693\n",
      "         1.0       0.44      0.02      0.04      6491\n",
      "         2.0       0.60      0.98      0.74     12938\n",
      "\n",
      "    accuracy                           0.61     23122\n",
      "   macro avg       0.59      0.45      0.42     23122\n",
      "weighted avg       0.57      0.61      0.50     23122\n",
      "\n"
     ]
    }
   ],
   "source": [
    "# Criar e treinar o modelo Gradient Boosting\n",
    "model_gbm = GradientBoostingClassifier(n_estimators=100, random_state=seed)\n",
    "model_gbm.fit(x_train, y_train)\n",
    "\n",
    "# Fazer previsões\n",
    "y_pred_gbm = model_gbm.predict(x_test)\n",
    "\n",
    "# Avaliar o modelo\n",
    "accuracy = accuracy_score(y_test, y_pred_gbm)\n",
    "print(f'The accuracy of the Gradient Boosting model is {round(accuracy, 5)}')\n",
    "\n",
    "# Exibir relatório de classificação\n",
    "print(classification_report(y_test, y_pred_gbm))"
   ]
  }
 ],
 "metadata": {
  "kernelspec": {
   "display_name": "venv",
   "language": "python",
   "name": "python3"
  },
  "language_info": {
   "codemirror_mode": {
    "name": "ipython",
    "version": 3
   },
   "file_extension": ".py",
   "mimetype": "text/x-python",
   "name": "python",
   "nbconvert_exporter": "python",
   "pygments_lexer": "ipython3",
   "version": "3.12.4"
  }
 },
 "nbformat": 4,
 "nbformat_minor": 2
}
