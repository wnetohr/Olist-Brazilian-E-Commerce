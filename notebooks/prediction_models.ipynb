{
 "cells": [
  {
   "cell_type": "markdown",
   "metadata": {},
   "source": [
    "### Imports"
   ]
  },
  {
   "cell_type": "code",
   "execution_count": 12,
   "metadata": {},
   "outputs": [],
   "source": [
    "import pandas as pd\n",
    "from scipy import stats\n",
    "import numpy as np\n",
    "from sklearn.model_selection import train_test_split\n",
    "from sklearn.linear_model import LogisticRegression\n",
    "import sklearn.linear_model as lm\n",
    "from sklearn.metrics import r2_score, accuracy_score, mean_squared_error, confusion_matrix, classification_report\n",
    "from sklearn.ensemble import RandomForestClassifier, GradientBoostingClassifier\n",
    "from sklearn.metrics import classification_report\n",
    "from sklearn.neighbors import KNeighborsClassifier\n",
    "from sklearn.tree import DecisionTreeClassifier\n",
    "import xgboost as xgb\n"
   ]
  },
  {
   "cell_type": "markdown",
   "metadata": {},
   "source": [
    "### Funções"
   ]
  },
  {
   "cell_type": "code",
   "execution_count": 13,
   "metadata": {},
   "outputs": [],
   "source": [
    "def load_data(file_path):\n",
    "    return pd.read_parquet(file_path)\n",
    "\n",
    "def df_summary(df):\n",
    "    print(f\"Dataset Shape: {df.shape}\")\n",
    "    summary = pd.DataFrame(df.dtypes,columns=['dtypes'])\n",
    "    summary = summary.reset_index()\n",
    "    summary['Column'] = summary['index']\n",
    "    summary = summary[['Column','dtypes']]\n",
    "    summary['# Missing'] = df.isnull().sum().values    \n",
    "    summary['# Unique'] = df.nunique().values\n",
    "    summary['Example'] = df.loc[0].values\n",
    "\n",
    "    for name in summary['Column'].value_counts().index:\n",
    "        summary.loc[summary['Column'] == name, 'Entropy'] = round(stats.entropy(df[name].value_counts(normalize=True), base=2),2) \n",
    "\n",
    "    return summary\n",
    "\n"
   ]
  },
  {
   "cell_type": "markdown",
   "metadata": {},
   "source": [
    "### Carregando dados"
   ]
  },
  {
   "cell_type": "code",
   "execution_count": 14,
   "metadata": {},
   "outputs": [],
   "source": [
    "seed = 42\n",
    "file_path = '../data/outputs/costumers_feature_df.parquet'\n",
    "file_path2 = '../data/outputs/feature_df.parquet'\n",
    "df = load_data(file_path2)\n",
    "##display(df)\n",
    "\n",
    "rating = df['review_score_factor']\n",
    "#rating = df['review_score']\n",
    "\n",
    "drop_columns = ['order_id', 'customer_id', 'order_status', 'order_purchase_timestamp', 'order_approved_at', 'order_delivered_carrier_date', \\\n",
    "                'order_delivered_customer_date', 'order_estimated_delivery_date', 'review_id', 'review_comment_title', 'review_score', \\\n",
    "                'review_creation_date', 'review_comment_message', 'review_answer_timestamp', 'payment_sequential', 'payment_type', 'customer_unique_id', \\\n",
    "                'customer_zip_code_prefix', 'customer_city', 'customer_state', 'order_item_id', 'product_id', 'seller_id', 'shipping_limit_date', 'price', \\\n",
    "                'freight_value', 'product_category_name', 'product_category_name_english', 'product_length_cm', 'product_height_cm', 'product_width_cm', \\\n",
    "                'seller_zip_code_prefix', 'seller_city', 'seller_state', 'review_score_factor']\n",
    "\n",
    "features = df.drop(drop_columns, axis=1)\n",
    "features = features.fillna(features.mean())"
   ]
  },
  {
   "cell_type": "code",
   "execution_count": 15,
   "metadata": {},
   "outputs": [
    {
     "data": {
      "text/html": [
       "<div>\n",
       "<style scoped>\n",
       "    .dataframe tbody tr th:only-of-type {\n",
       "        vertical-align: middle;\n",
       "    }\n",
       "\n",
       "    .dataframe tbody tr th {\n",
       "        vertical-align: top;\n",
       "    }\n",
       "\n",
       "    .dataframe thead th {\n",
       "        text-align: right;\n",
       "    }\n",
       "</style>\n",
       "<table border=\"1\" class=\"dataframe\">\n",
       "  <thead>\n",
       "    <tr style=\"text-align: right;\">\n",
       "      <th></th>\n",
       "      <th>order_id</th>\n",
       "      <th>customer_id</th>\n",
       "      <th>order_status</th>\n",
       "      <th>order_purchase_timestamp</th>\n",
       "      <th>order_approved_at</th>\n",
       "      <th>order_delivered_carrier_date</th>\n",
       "      <th>order_delivered_customer_date</th>\n",
       "      <th>order_estimated_delivery_date</th>\n",
       "      <th>order_item_id</th>\n",
       "      <th>product_id</th>\n",
       "      <th>...</th>\n",
       "      <th>product_height_cm</th>\n",
       "      <th>product_width_cm</th>\n",
       "      <th>product_category_name_english</th>\n",
       "      <th>comp_score</th>\n",
       "      <th>review_score_factor</th>\n",
       "      <th>price_factor</th>\n",
       "      <th>freight_value_factor</th>\n",
       "      <th>if_delivered</th>\n",
       "      <th>actual_est_delivery_diff</th>\n",
       "      <th>delivery_duration</th>\n",
       "    </tr>\n",
       "  </thead>\n",
       "  <tbody>\n",
       "    <tr>\n",
       "      <th>0</th>\n",
       "      <td>e481f51cbdc54678b7cc49136f2d6af7</td>\n",
       "      <td>9ef432eb6251297304e76186b10a928d</td>\n",
       "      <td>delivered</td>\n",
       "      <td>2017-10-02 10:56:33</td>\n",
       "      <td>2017-10-02 11:07:15</td>\n",
       "      <td>2017-10-04 19:55:00</td>\n",
       "      <td>2017-10-10 21:25:13</td>\n",
       "      <td>2017-10-18</td>\n",
       "      <td>1</td>\n",
       "      <td>87285b34884572647811a353c7ac498a</td>\n",
       "      <td>...</td>\n",
       "      <td>8.0</td>\n",
       "      <td>13.0</td>\n",
       "      <td>housewares</td>\n",
       "      <td>0.0</td>\n",
       "      <td>1.0</td>\n",
       "      <td>0.0</td>\n",
       "      <td>0.0</td>\n",
       "      <td>1.0</td>\n",
       "      <td>7.0</td>\n",
       "      <td>8.0</td>\n",
       "    </tr>\n",
       "    <tr>\n",
       "      <th>1</th>\n",
       "      <td>e481f51cbdc54678b7cc49136f2d6af7</td>\n",
       "      <td>9ef432eb6251297304e76186b10a928d</td>\n",
       "      <td>delivered</td>\n",
       "      <td>2017-10-02 10:56:33</td>\n",
       "      <td>2017-10-02 11:07:15</td>\n",
       "      <td>2017-10-04 19:55:00</td>\n",
       "      <td>2017-10-10 21:25:13</td>\n",
       "      <td>2017-10-18</td>\n",
       "      <td>1</td>\n",
       "      <td>87285b34884572647811a353c7ac498a</td>\n",
       "      <td>...</td>\n",
       "      <td>8.0</td>\n",
       "      <td>13.0</td>\n",
       "      <td>housewares</td>\n",
       "      <td>0.0</td>\n",
       "      <td>1.0</td>\n",
       "      <td>0.0</td>\n",
       "      <td>0.0</td>\n",
       "      <td>1.0</td>\n",
       "      <td>7.0</td>\n",
       "      <td>8.0</td>\n",
       "    </tr>\n",
       "    <tr>\n",
       "      <th>2</th>\n",
       "      <td>e481f51cbdc54678b7cc49136f2d6af7</td>\n",
       "      <td>9ef432eb6251297304e76186b10a928d</td>\n",
       "      <td>delivered</td>\n",
       "      <td>2017-10-02 10:56:33</td>\n",
       "      <td>2017-10-02 11:07:15</td>\n",
       "      <td>2017-10-04 19:55:00</td>\n",
       "      <td>2017-10-10 21:25:13</td>\n",
       "      <td>2017-10-18</td>\n",
       "      <td>1</td>\n",
       "      <td>87285b34884572647811a353c7ac498a</td>\n",
       "      <td>...</td>\n",
       "      <td>8.0</td>\n",
       "      <td>13.0</td>\n",
       "      <td>housewares</td>\n",
       "      <td>0.0</td>\n",
       "      <td>1.0</td>\n",
       "      <td>0.0</td>\n",
       "      <td>0.0</td>\n",
       "      <td>1.0</td>\n",
       "      <td>7.0</td>\n",
       "      <td>8.0</td>\n",
       "    </tr>\n",
       "    <tr>\n",
       "      <th>3</th>\n",
       "      <td>128e10d95713541c87cd1a2e48201934</td>\n",
       "      <td>a20e8105f23924cd00833fd87daa0831</td>\n",
       "      <td>delivered</td>\n",
       "      <td>2017-08-15 18:29:31</td>\n",
       "      <td>2017-08-15 20:05:16</td>\n",
       "      <td>2017-08-17 15:28:33</td>\n",
       "      <td>2017-08-18 14:44:43</td>\n",
       "      <td>2017-08-28</td>\n",
       "      <td>1</td>\n",
       "      <td>87285b34884572647811a353c7ac498a</td>\n",
       "      <td>...</td>\n",
       "      <td>8.0</td>\n",
       "      <td>13.0</td>\n",
       "      <td>housewares</td>\n",
       "      <td>0.0</td>\n",
       "      <td>1.0</td>\n",
       "      <td>0.0</td>\n",
       "      <td>0.0</td>\n",
       "      <td>1.0</td>\n",
       "      <td>9.0</td>\n",
       "      <td>2.0</td>\n",
       "    </tr>\n",
       "    <tr>\n",
       "      <th>4</th>\n",
       "      <td>0e7e841ddf8f8f2de2bad69267ecfbcf</td>\n",
       "      <td>26c7ac168e1433912a51b924fbd34d34</td>\n",
       "      <td>delivered</td>\n",
       "      <td>2017-08-02 18:24:47</td>\n",
       "      <td>2017-08-02 18:43:15</td>\n",
       "      <td>2017-08-04 17:35:43</td>\n",
       "      <td>2017-08-07 18:30:01</td>\n",
       "      <td>2017-08-15</td>\n",
       "      <td>1</td>\n",
       "      <td>87285b34884572647811a353c7ac498a</td>\n",
       "      <td>...</td>\n",
       "      <td>8.0</td>\n",
       "      <td>13.0</td>\n",
       "      <td>housewares</td>\n",
       "      <td>0.0</td>\n",
       "      <td>2.0</td>\n",
       "      <td>0.0</td>\n",
       "      <td>0.0</td>\n",
       "      <td>1.0</td>\n",
       "      <td>7.0</td>\n",
       "      <td>5.0</td>\n",
       "    </tr>\n",
       "  </tbody>\n",
       "</table>\n",
       "<p>5 rows × 47 columns</p>\n",
       "</div>"
      ],
      "text/plain": [
       "                           order_id                       customer_id  \\\n",
       "0  e481f51cbdc54678b7cc49136f2d6af7  9ef432eb6251297304e76186b10a928d   \n",
       "1  e481f51cbdc54678b7cc49136f2d6af7  9ef432eb6251297304e76186b10a928d   \n",
       "2  e481f51cbdc54678b7cc49136f2d6af7  9ef432eb6251297304e76186b10a928d   \n",
       "3  128e10d95713541c87cd1a2e48201934  a20e8105f23924cd00833fd87daa0831   \n",
       "4  0e7e841ddf8f8f2de2bad69267ecfbcf  26c7ac168e1433912a51b924fbd34d34   \n",
       "\n",
       "  order_status order_purchase_timestamp   order_approved_at  \\\n",
       "0    delivered      2017-10-02 10:56:33 2017-10-02 11:07:15   \n",
       "1    delivered      2017-10-02 10:56:33 2017-10-02 11:07:15   \n",
       "2    delivered      2017-10-02 10:56:33 2017-10-02 11:07:15   \n",
       "3    delivered      2017-08-15 18:29:31 2017-08-15 20:05:16   \n",
       "4    delivered      2017-08-02 18:24:47 2017-08-02 18:43:15   \n",
       "\n",
       "  order_delivered_carrier_date order_delivered_customer_date  \\\n",
       "0          2017-10-04 19:55:00           2017-10-10 21:25:13   \n",
       "1          2017-10-04 19:55:00           2017-10-10 21:25:13   \n",
       "2          2017-10-04 19:55:00           2017-10-10 21:25:13   \n",
       "3          2017-08-17 15:28:33           2017-08-18 14:44:43   \n",
       "4          2017-08-04 17:35:43           2017-08-07 18:30:01   \n",
       "\n",
       "  order_estimated_delivery_date  order_item_id  \\\n",
       "0                    2017-10-18              1   \n",
       "1                    2017-10-18              1   \n",
       "2                    2017-10-18              1   \n",
       "3                    2017-08-28              1   \n",
       "4                    2017-08-15              1   \n",
       "\n",
       "                         product_id  ... product_height_cm product_width_cm  \\\n",
       "0  87285b34884572647811a353c7ac498a  ...               8.0             13.0   \n",
       "1  87285b34884572647811a353c7ac498a  ...               8.0             13.0   \n",
       "2  87285b34884572647811a353c7ac498a  ...               8.0             13.0   \n",
       "3  87285b34884572647811a353c7ac498a  ...               8.0             13.0   \n",
       "4  87285b34884572647811a353c7ac498a  ...               8.0             13.0   \n",
       "\n",
       "   product_category_name_english  comp_score review_score_factor  \\\n",
       "0                     housewares         0.0                 1.0   \n",
       "1                     housewares         0.0                 1.0   \n",
       "2                     housewares         0.0                 1.0   \n",
       "3                     housewares         0.0                 1.0   \n",
       "4                     housewares         0.0                 2.0   \n",
       "\n",
       "   price_factor freight_value_factor if_delivered actual_est_delivery_diff  \\\n",
       "0           0.0                  0.0          1.0                      7.0   \n",
       "1           0.0                  0.0          1.0                      7.0   \n",
       "2           0.0                  0.0          1.0                      7.0   \n",
       "3           0.0                  0.0          1.0                      9.0   \n",
       "4           0.0                  0.0          1.0                      7.0   \n",
       "\n",
       "   delivery_duration  \n",
       "0                8.0  \n",
       "1                8.0  \n",
       "2                8.0  \n",
       "3                2.0  \n",
       "4                5.0  \n",
       "\n",
       "[5 rows x 47 columns]"
      ]
     },
     "execution_count": 15,
     "metadata": {},
     "output_type": "execute_result"
    }
   ],
   "source": [
    "df.head()"
   ]
  },
  {
   "cell_type": "markdown",
   "metadata": {},
   "source": [
    "### Dividindo os dados"
   ]
  },
  {
   "cell_type": "code",
   "execution_count": 16,
   "metadata": {},
   "outputs": [],
   "source": [
    "\n",
    "x_train, x_test, y_train, y_test = train_test_split(features, rating, test_size = 0.2, random_state = seed)"
   ]
  },
  {
   "cell_type": "markdown",
   "metadata": {},
   "source": [
    "### Criação e treinamento do modelo de XGBoost"
   ]
  },
  {
   "cell_type": "code",
   "execution_count": 17,
   "metadata": {},
   "outputs": [
    {
     "name": "stderr",
     "output_type": "stream",
     "text": [
      "c:\\Users\\mater\\Documents\\Projetos git\\Olist-Brazilian-E-Commerce\\venv\\Lib\\site-packages\\xgboost\\core.py:158: UserWarning: [20:55:25] WARNING: C:\\buildkite-agent\\builds\\buildkite-windows-cpu-autoscaling-group-i-0015a694724fa8361-1\\xgboost\\xgboost-ci-windows\\src\\learner.cc:740: \n",
      "Parameters: { \"use_label_encoder\" } are not used.\n",
      "\n",
      "  warnings.warn(smsg, UserWarning)\n"
     ]
    },
    {
     "name": "stdout",
     "output_type": "stream",
     "text": [
      "Accuracy: 0.6297465617161145\n",
      "Confusion Matrix:\n",
      "[[ 1849    97  1747]\n",
      " [  452   481  5558]\n",
      " [  424   283 12231]]\n",
      "Classification Report:\n",
      "              precision    recall  f1-score   support\n",
      "\n",
      "         0.0       0.68      0.50      0.58      3693\n",
      "         1.0       0.56      0.07      0.13      6491\n",
      "         2.0       0.63      0.95      0.75     12938\n",
      "\n",
      "    accuracy                           0.63     23122\n",
      "   macro avg       0.62      0.51      0.49     23122\n",
      "weighted avg       0.62      0.63      0.55     23122\n",
      "\n"
     ]
    }
   ],
   "source": [
    "# Initialize XGBoost model\n",
    "xgb_model = xgb.XGBClassifier(use_label_encoder=False, eval_metric='mlogloss')\n",
    "\n",
    "# Fit model\n",
    "xgb_model.fit(x_train, y_train)\n",
    "\n",
    "# Make predictions\n",
    "y_pred = xgb_model.predict(x_test)\n",
    "\n",
    "# Evaluate model\n",
    "accuracy = accuracy_score(y_test, y_pred)\n",
    "conf_matrix = confusion_matrix(y_test, y_pred)\n",
    "class_report = classification_report(y_test, y_pred)\n",
    "\n",
    "print(f\"Accuracy: {accuracy}\")\n",
    "print(f\"Confusion Matrix:\\n{conf_matrix}\")\n",
    "print(f\"Classification Report:\\n{class_report}\")"
   ]
  },
  {
   "cell_type": "markdown",
   "metadata": {},
   "source": [
    "### Criação e treinamento do modelo de Árvore de decisão"
   ]
  },
  {
   "cell_type": "code",
   "execution_count": 18,
   "metadata": {},
   "outputs": [
    {
     "name": "stdout",
     "output_type": "stream",
     "text": [
      "The accuracy of the DT model is 0.5894386298763082\n",
      "              precision    recall  f1-score   support\n",
      "\n",
      "         0.0       0.57      0.60      0.58      3693\n",
      "         1.0       0.42      0.42      0.42      6491\n",
      "         2.0       0.68      0.67      0.68     12938\n",
      "\n",
      "    accuracy                           0.59     23122\n",
      "   macro avg       0.56      0.56      0.56     23122\n",
      "weighted avg       0.59      0.59      0.59     23122\n",
      "\n"
     ]
    }
   ],
   "source": [
    "clf = DecisionTreeClassifier(random_state=seed)\n",
    "clf.fit(x_train, y_train)\n",
    "\n",
    "# Realização de previsões\n",
    "y_pred = clf.predict(x_test)\n",
    "\n",
    "# Avaliação do modelo\n",
    "accuracy = accuracy_score(y_test, y_pred)\n",
    "report = classification_report(y_test, y_pred)\n",
    "\n",
    "print(f'The accuracy of the DT model is {accuracy}')\n",
    "\n",
    "# Exibir relatório de classificação\n",
    "print(report)"
   ]
  },
  {
   "cell_type": "markdown",
   "metadata": {},
   "source": [
    "### Criação e treinamento do modelo de regressão logística"
   ]
  },
  {
   "cell_type": "code",
   "execution_count": 19,
   "metadata": {},
   "outputs": [
    {
     "name": "stdout",
     "output_type": "stream",
     "text": [
      "              precision    recall  f1-score   support\n",
      "\n",
      "         0.0       0.60      0.22      0.32      3693\n",
      "         1.0       0.36      0.01      0.02      6491\n",
      "         2.0       0.58      0.98      0.73     12938\n",
      "\n",
      "    accuracy                           0.58     23122\n",
      "   macro avg       0.51      0.40      0.36     23122\n",
      "weighted avg       0.52      0.58      0.47     23122\n",
      "\n"
     ]
    },
    {
     "name": "stderr",
     "output_type": "stream",
     "text": [
      "c:\\Users\\mater\\Documents\\Projetos git\\Olist-Brazilian-E-Commerce\\venv\\Lib\\site-packages\\sklearn\\linear_model\\_logistic.py:469: ConvergenceWarning: lbfgs failed to converge (status=1):\n",
      "STOP: TOTAL NO. of ITERATIONS REACHED LIMIT.\n",
      "\n",
      "Increase the number of iterations (max_iter) or scale the data as shown in:\n",
      "    https://scikit-learn.org/stable/modules/preprocessing.html\n",
      "Please also refer to the documentation for alternative solver options:\n",
      "    https://scikit-learn.org/stable/modules/linear_model.html#logistic-regression\n",
      "  n_iter_i = _check_optimize_result(\n"
     ]
    }
   ],
   "source": [
    "# Criar e treinar o modelo de regressão logística\n",
    "model = LogisticRegression(max_iter=1000, random_state=seed)\n",
    "model.fit(x_train, y_train)\n",
    "\n",
    "# Fazer previsões e avaliar o modelo\n",
    "y_pred_lr = model.predict(x_test)\n",
    "print(classification_report(y_test, y_pred_lr))"
   ]
  },
  {
   "cell_type": "markdown",
   "metadata": {},
   "source": [
    "### Criação e treinamento do modelo com regressão linear"
   ]
  },
  {
   "cell_type": "code",
   "execution_count": 20,
   "metadata": {},
   "outputs": [
    {
     "name": "stdout",
     "output_type": "stream",
     "text": [
      "The R2 score in this linear regression model is 0.13128\n",
      "The RMSE in this linear regression model is 0.69711, which is about 50.0% of the mean rating score.\n"
     ]
    }
   ],
   "source": [
    "\n",
    "reg = lm.LinearRegression().fit(x_train, y_train)\n",
    "\n",
    "y_pred_lr = reg.predict(x_test)\n",
    "\n",
    "score = reg.score(x_test, y_test)\n",
    "rmse_lr = np.sqrt(mean_squared_error(y_test.values, y_pred_lr))\n",
    "\n",
    "print(f'The R2 score in this linear regression model is {round(score, 5)}')\n",
    "print(f'The RMSE in this linear regression model is {round(rmse_lr, 5)}, which is about {100*round(rmse_lr/np.mean(rating),2)}% of \\\n",
    "the mean rating score.')"
   ]
  },
  {
   "cell_type": "markdown",
   "metadata": {},
   "source": [
    "### Criação e treinamento do modelo com floresta aleatória"
   ]
  },
  {
   "cell_type": "code",
   "execution_count": 21,
   "metadata": {},
   "outputs": [
    {
     "name": "stdout",
     "output_type": "stream",
     "text": [
      "The accuracy of the RF model is 0.68216\n",
      "              precision    recall  f1-score   support\n",
      "\n",
      "         0.0       0.77      0.62      0.69      3693\n",
      "         1.0       0.63      0.26      0.37      6491\n",
      "         2.0       0.67      0.91      0.78     12938\n",
      "\n",
      "    accuracy                           0.68     23122\n",
      "   macro avg       0.69      0.60      0.61     23122\n",
      "weighted avg       0.68      0.68      0.65     23122\n",
      "\n"
     ]
    }
   ],
   "source": [
    "# Criar e treinar o modelo de floresta aleatória\n",
    "model = RandomForestClassifier(n_estimators=100, random_state=seed)\n",
    "model.fit(x_train, y_train)\n",
    "\n",
    "# Fazer previsões \n",
    "y_pred_rf = model.predict(x_test)\n",
    "\n",
    "# Avaliar o modelo\n",
    "accuracy = accuracy_score(y_test, y_pred_rf)\n",
    "print(f'The accuracy of the RF model is {round(accuracy, 5)}')\n",
    "\n",
    "# Exibir relatório de classificação\n",
    "print(classification_report(y_test, y_pred_rf))"
   ]
  },
  {
   "cell_type": "markdown",
   "metadata": {},
   "source": [
    "### Criação e treinamento do modelo utilizando KNN"
   ]
  },
  {
   "cell_type": "code",
   "execution_count": 22,
   "metadata": {},
   "outputs": [
    {
     "name": "stdout",
     "output_type": "stream",
     "text": [
      "The accuracy of the KNN model is 0.53412\n",
      "              precision    recall  f1-score   support\n",
      "\n",
      "         0.0       0.39      0.33      0.36      3693\n",
      "         1.0       0.36      0.30      0.33      6491\n",
      "         2.0       0.63      0.71      0.67     12938\n",
      "\n",
      "    accuracy                           0.53     23122\n",
      "   macro avg       0.46      0.45      0.45     23122\n",
      "weighted avg       0.52      0.53      0.52     23122\n",
      "\n"
     ]
    }
   ],
   "source": [
    "# Criar e treinar o modelo K-Nearest Neighbors\n",
    "model_knn = KNeighborsClassifier(n_neighbors=5)\n",
    "model_knn.fit(x_train, y_train)\n",
    "\n",
    "# Fazer previsões\n",
    "y_pred_knn = model_knn.predict(x_test)\n",
    "\n",
    "# Avaliar o modelo\n",
    "accuracy = accuracy_score(y_test, y_pred_knn)\n",
    "print(f'The accuracy of the KNN model is {round(accuracy, 5)}')\n",
    "\n",
    "# Exibir relatório de classificação\n",
    "print(classification_report(y_test, y_pred_knn))"
   ]
  },
  {
   "cell_type": "markdown",
   "metadata": {},
   "source": [
    "### Criação e treinamento do modelo utilizando GBM"
   ]
  },
  {
   "cell_type": "code",
   "execution_count": 23,
   "metadata": {},
   "outputs": [
    {
     "name": "stdout",
     "output_type": "stream",
     "text": [
      "The accuracy of the Gradient Boosting model is 0.61284\n",
      "              precision    recall  f1-score   support\n",
      "\n",
      "         0.0       0.67      0.43      0.52      3693\n",
      "         1.0       0.43      0.02      0.04      6491\n",
      "         2.0       0.61      0.96      0.75     12938\n",
      "\n",
      "    accuracy                           0.61     23122\n",
      "   macro avg       0.57      0.47      0.43     23122\n",
      "weighted avg       0.57      0.61      0.51     23122\n",
      "\n"
     ]
    }
   ],
   "source": [
    "# Criar e treinar o modelo Gradient Boosting\n",
    "model_gbm = GradientBoostingClassifier(n_estimators=100, random_state=seed)\n",
    "model_gbm.fit(x_train, y_train)\n",
    "\n",
    "# Fazer previsões\n",
    "y_pred_gbm = model_gbm.predict(x_test)\n",
    "\n",
    "# Avaliar o modelo\n",
    "accuracy = accuracy_score(y_test, y_pred_gbm)\n",
    "print(f'The accuracy of the Gradient Boosting model is {round(accuracy, 5)}')\n",
    "\n",
    "# Exibir relatório de classificação\n",
    "print(classification_report(y_test, y_pred_gbm))"
   ]
  }
 ],
 "metadata": {
  "kernelspec": {
   "display_name": "venv",
   "language": "python",
   "name": "python3"
  },
  "language_info": {
   "codemirror_mode": {
    "name": "ipython",
    "version": 3
   },
   "file_extension": ".py",
   "mimetype": "text/x-python",
   "name": "python",
   "nbconvert_exporter": "python",
   "pygments_lexer": "ipython3",
   "version": "3.12.4"
  }
 },
 "nbformat": 4,
 "nbformat_minor": 2
}
